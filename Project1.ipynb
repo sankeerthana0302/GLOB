{
  "nbformat": 4,
  "nbformat_minor": 0,
  "metadata": {
    "colab": {
      "provenance": [],
      "authorship_tag": "ABX9TyPfC8TWNHurNRLDm8Tj+Wip",
      "include_colab_link": true
    },
    "kernelspec": {
      "name": "python3",
      "display_name": "Python 3"
    },
    "language_info": {
      "name": "python"
    }
  },
  "cells": [
    {
      "cell_type": "markdown",
      "metadata": {
        "id": "view-in-github",
        "colab_type": "text"
      },
      "source": [
        "<a href=\"https://colab.research.google.com/github/sankeerthana0302/GLOB/blob/main/Project1.ipynb\" target=\"_parent\"><img src=\"https://colab.research.google.com/assets/colab-badge.svg\" alt=\"Open In Colab\"/></a>"
      ]
    },
    {
      "cell_type": "code",
      "execution_count": null,
      "metadata": {
        "colab": {
          "base_uri": "https://localhost:8080/"
        },
        "id": "6F3UDPuwKNhg",
        "outputId": "bfd23536-2285-4b2b-f6d8-a9c24115a10f"
      },
      "outputs": [
        {
          "output_type": "stream",
          "name": "stdout",
          "text": [
            "Requirement already satisfied: requests in /usr/local/lib/python3.10/dist-packages (2.32.3)\n",
            "Requirement already satisfied: lxml in /usr/local/lib/python3.10/dist-packages (5.3.0)\n",
            "Collecting schedule\n",
            "  Downloading schedule-1.2.2-py3-none-any.whl.metadata (3.8 kB)\n",
            "Requirement already satisfied: charset-normalizer<4,>=2 in /usr/local/lib/python3.10/dist-packages (from requests) (3.4.0)\n",
            "Requirement already satisfied: idna<4,>=2.5 in /usr/local/lib/python3.10/dist-packages (from requests) (3.10)\n",
            "Requirement already satisfied: urllib3<3,>=1.21.1 in /usr/local/lib/python3.10/dist-packages (from requests) (2.2.3)\n",
            "Requirement already satisfied: certifi>=2017.4.17 in /usr/local/lib/python3.10/dist-packages (from requests) (2024.12.14)\n",
            "Downloading schedule-1.2.2-py3-none-any.whl (12 kB)\n",
            "Installing collected packages: schedule\n",
            "Successfully installed schedule-1.2.2\n",
            "Checking product availability: https://amzn.in/d/6yqYsXSB0CHXCR9CX\n",
            "Error checking product availability: 404 Client Error: Not Found for url: https://amzn.in/d/6yqYsXSB0CHXCR9CX\n",
            "Availability Status: None\n",
            "Product not available. No email sent.\n"
          ]
        }
      ],
      "source": [
        "!pip install requests lxml schedule\n",
        "# Importing required libraries\n",
        "from lxml import html\n",
        "import requests\n",
        "import smtplib\n",
        "\n",
        "# Email credentials (replace with your details)\n",
        "sender_email = \"sana@gmail.com\"  # Replace with the sender's Gmail address\n",
        "sender_password = \"hldr gfbs fgns mgdx\"  # Replace with the Gmail App Password\n",
        "receiver_email = \"bheemeshwaripula@gmail.com \"  # Recipient's email address\n",
        "\n",
        "# Function to check product availability\n",
        "def check_product_availability(url):\n",
        "    headers = {\n",
        "        'User-Agent': 'Mozilla/5.0 (Windows NT 10.0; Win64; x64) AppleWebKit/537.36 (KHTML, like Gecko) Chrome/115.0.0.0 Safari/537.36'\n",
        "    }\n",
        "    try:\n",
        "        response = requests.get(url, headers=headers, timeout=10)\n",
        "        response.raise_for_status()\n",
        "        doc = html.fromstring(response.content)\n",
        "\n",
        "        # XPath to extract product availability status\n",
        "        XPATH_AVAILABILITY = '//div[@id=\"availability\"]//span/text()'\n",
        "        raw_availability = doc.xpath(XPATH_AVAILABILITY)\n",
        "        availability_status = ''.join(raw_availability).strip() if raw_availability else \"Availability not found\"\n",
        "        return availability_status\n",
        "    except Exception as e:\n",
        "        print(f\"Error checking product availability: {e}\")\n",
        "        return None\n",
        "\n",
        "# Function to send email notification\n",
        "def send_email_notification(availability_status, product_name):\n",
        "    subject = f\"{product_name} Availability Update\"\n",
        "    body = f\"Product: {product_name}\\nStatus: {availability_status}\"\n",
        "\n",
        "    try:\n",
        "        print(\"Setting up SMTP server...\")\n",
        "        with smtplib.SMTP('smtp.gmail.com', 587) as server:\n",
        "            server.starttls()\n",
        "            print(\"Logging in to Gmail...\")\n",
        "            server.login(sender_email, sender_password)\n",
        "            print(\"Sending email...\")\n",
        "            message = f\"Subject: {subject}\\n\\n{body}\"\n",
        "            server.sendmail(sender_email, receiver_email, message)\n",
        "            print(f\"Email sent successfully to {receiver_email}!\")\n",
        "    except Exception as e:\n",
        "        print(f\"Error sending email: {e}\")\n",
        "\n",
        "# Main function to track the product\n",
        "def track_product():\n",
        "    asin = \"B0CHXCR9CX\"  # Replace with the correct ASIN for iPhone 16 Pro Max\n",
        "    url = f\"https://amzn.in/d/6yqYsXS{asin}\"\n",
        "    print(f\"Checking product availability: {url}\")\n",
        "    availability = check_product_availability(url)\n",
        "    print(f\"Availability Status: {availability}\")\n",
        "    if availability and (\"In stock\" in availability or \"Only\" in availability):\n",
        "        send_email_notification(availability, \"iPhone 16 Pro Max\")\n",
        "    else:\n",
        "        print(\"Product not available. No email sent.\")\n",
        "\n",
        "# Run the tracker once\n",
        "track_product()"
      ]
    }
  ]
}